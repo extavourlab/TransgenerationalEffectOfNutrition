{
 "cells": [
  {
   "cell_type": "code",
   "execution_count": 1,
   "metadata": {
    "collapsed": false,
    "outputExpanded": false
   },
   "source": [
    "import numpy as np\n",
    "import pandas as pd"
   ],
   "outputs": []
  },
  {
   "cell_type": "code",
   "execution_count": 2,
   "metadata": {
    "collapsed": false
   },
   "source": [
    "counts = np.random.random((39,39))\n",
    "names = []\n",
    "alp = ['R','S','P']\n",
    "for i in range(3):\n",
    "    for a in alp:\n",
    "        names.append(a)\n",
    "        for b in alp:\n",
    "            names.append(a+b)\n",
    "            for c in alp:\n",
    "                names.append(a+b+c)\n",
    "names  = np.unique(names)"
   ],
   "outputs": []
  },
  {
   "cell_type": "code",
   "execution_count": 3,
   "metadata": {
    "collapsed": false
   },
   "source": [
    "names"
   ],
   "outputs": [
    {
     "execution_count": 3,
     "data": {
      "text/plain": [
       "array(['P', 'PP', 'PPP', 'PPR', 'PPS', 'PR', 'PRP', 'PRR', 'PRS', 'PS',\n",
       "       'PSP', 'PSR', 'PSS', 'R', 'RP', 'RPP', 'RPR', 'RPS', 'RR', 'RRP',\n",
       "       'RRR', 'RRS', 'RS', 'RSP', 'RSR', 'RSS', 'S', 'SP', 'SPP', 'SPR',\n",
       "       'SPS', 'SR', 'SRP', 'SRR', 'SRS', 'SS', 'SSP', 'SSR', 'SSS'], \n",
       "      dtype='<U3')"
      ]
     },
     "metadata": {},
     "output_type": "execute_result"
    }
   ]
  },
  {
   "cell_type": "code",
   "execution_count": 4,
   "metadata": {
    "collapsed": false
   },
   "source": [
    "dataset = []\n",
    "for i in range(39):\n",
    "    for j in range(39):\n",
    "        dataset.append([names[i],names[j],'ovaries',str(np.random.random())])\n",
    "for i in range(39):\n",
    "    for j in range(39):\n",
    "        dataset.append([names[i],names[j],'size',str(np.random.random())])\n",
    "for i in range(39):\n",
    "    for j in range(39):\n",
    "        dataset.append([names[i],names[j],'weight',str(np.random.random())])"
   ],
   "outputs": []
  },
  {
   "cell_type": "code",
   "execution_count": 6,
   "metadata": {
    "collapsed": false
   },
   "source": [
    "f = open('./fakedata.tsv','w')\n",
    "f.write('gen1\\tgen2\\tphenotype\\tpvalue\\n')\n",
    "for l in dataset:\n",
    "    f.write('\\t'.join(l) + '\\n')\n",
    "f.close()"
   ],
   "outputs": []
  },
  {
   "cell_type": "code",
   "execution_count": 10,
   "metadata": {
    "collapsed": false
   },
   "source": [
    "data2 = []\n",
    "phenotypes = ['ovaries', 'size','weight']\n",
    "for name in names:\n",
    "    for phenotype in phenotypes:\n",
    "        loc = np.random.randint(4,14)\n",
    "        scale = np.random.randint(1,3)\n",
    "        for i in range(40):\n",
    "        \tdata2.append([name, phenotype, np.random.normal(loc=loc, scale=scale)])    "
   ],
   "outputs": []
  },
  {
   "cell_type": "code",
   "execution_count": 12,
   "metadata": {
    "collapsed": false
   },
   "source": [
    "f = open('./fakedata2.tsv','w')\n",
    "f.write('gen\\tphenotype\\tvalue\\n')\n",
    "for l in data2:\n",
    "    f.write('\\t'.join(l) + '\\n')\n",
    "f.close()"
   ],
   "outputs": []
  },
  {
   "cell_type": "code",
   "execution_count": null,
   "metadata": {
    "collapsed": false
   },
   "source": [],
   "outputs": []
  }
 ],
 "nbformat": 4,
 "nbformat_minor": 0,
 "metadata": {
  "kernelspec": {
   "name": "python3",
   "language": "python",
   "display_name": "Python 3"
  },
  "kernel_info": {
   "name": "python3"
  },
  "language_info": {
   "codemirror_mode": {
    "version": 3,
    "name": "ipython"
   },
   "file_extension": ".py",
   "pygments_lexer": "ipython3",
   "version": "3.5.2",
   "name": "python",
   "nbconvert_exporter": "python",
   "mimetype": "text/x-python"
  }
 }
}